{
 "cells": [
  {
   "cell_type": "code",
   "execution_count": 1,
   "id": "excellent-logic",
   "metadata": {},
   "outputs": [],
   "source": [
    "from gaussian_load import dump_gjf\n",
    "# the function only works well for Gaussian 09\n",
    "# for Gaussian 16 some key words need to be revised\n",
    "from gaussian_load import load_gau\n",
    "import glob as glob\n",
    "import pandas as pd"
   ]
  },
  {
   "cell_type": "code",
   "execution_count": 7,
   "id": "excited-parallel",
   "metadata": {},
   "outputs": [],
   "source": [
    "outfiles = glob.glob('../SMD-Energy/*.out')\n",
    "\n",
    "results = {'name':[],'EHOMO-1':[],'EHOMO':[],'ELUMO':[],'ELUMO+1':[],\n",
    "          'dipole':[],'q_C+':[],'q_C-':[],'q_H+':[],'q_H-':[],'SCF':[]}\n",
    "\n",
    "for out in outfiles:\n",
    "    filename = out.split('/')[-1].split('.')[0]\n",
    "    #print(filename)\n",
    "    HOMO,LUMO = load_gau(out,'orbit')\n",
    "    dipole = load_gau(out,'dipole')\n",
    "    elem, charge = load_gau(out,'charge')\n",
    "    scf = load_gau(out,'E')\n",
    "    \n",
    "    q_H = []\n",
    "    q_C = []\n",
    "    for i,x in enumerate(elem):\n",
    "        if x=='H':\n",
    "            q_H.append(charge[i])\n",
    "        elif x=='C':\n",
    "            q_C.append(charge[i])\n",
    "    #ch_charge = charge[ch_idx]\n",
    "\n",
    "    results['name'].append(filename)\n",
    "    results['EHOMO-1'].append(HOMO[-2])\n",
    "    results['EHOMO'].append(HOMO[-1])\n",
    "    results['ELUMO'].append(LUMO[0])\n",
    "    results['ELUMO+1'].append(LUMO[1])\n",
    "    results['dipole'].append(dipole[3])\n",
    "    if len(q_H) >0:\n",
    "        results['q_H+'].append(max(q_H))\n",
    "        results['q_H-'].append(min(q_H))\n",
    "    else:\n",
    "        results['q_H+'].append('noh')\n",
    "        results['q_H-'].append('noh')\n",
    "    if len(q_C) > 0:\n",
    "        results['q_C+'].append(max(q_C))\n",
    "        results['q_C-'].append(min(q_C))\n",
    "    else:\n",
    "        results['q_C+'].append(max(q_C))\n",
    "        results['q_C-'].append(min(q_C))\n",
    "    results['SCF'].append(scf)\n",
    "    \n",
    "results = pd.DataFrame(data=results)\n",
    "results.to_excel('results_extracted_SMD-Energy.xlsx',index=False)"
   ]
  },
  {
   "cell_type": "code",
   "execution_count": null,
   "id": "abroad-investigator",
   "metadata": {},
   "outputs": [],
   "source": []
  }
 ],
 "metadata": {
  "kernelspec": {
   "display_name": "Python 3",
   "language": "python",
   "name": "python3"
  },
  "language_info": {
   "codemirror_mode": {
    "name": "ipython",
    "version": 3
   },
   "file_extension": ".py",
   "mimetype": "text/x-python",
   "name": "python",
   "nbconvert_exporter": "python",
   "pygments_lexer": "ipython3",
   "version": "3.9.1"
  }
 },
 "nbformat": 4,
 "nbformat_minor": 5
}
